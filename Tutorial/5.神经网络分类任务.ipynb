{
 "cells": [
  {
   "cell_type": "markdown",
   "source": [
    "# Mnist分类任务\n",
    "> + 网络基本构建与训练方法\n",
    "> + torch.nn.functional模块\n",
    "> + nn.Mudule模块\n",
    "> + dataset和dataloader使用"
   ],
   "metadata": {
    "collapsed": false
   }
  },
  {
   "cell_type": "markdown",
   "source": [
    "## 读取Mnist数据集"
   ],
   "metadata": {
    "collapsed": false
   }
  },
  {
   "cell_type": "code",
   "execution_count": 1,
   "outputs": [],
   "source": [
    "% matplotlib inline"
   ],
   "metadata": {
    "collapsed": false
   }
  },
  {
   "cell_type": "code",
   "execution_count": 6,
   "outputs": [],
   "source": [
    "from pathlib import Path\n",
    "import requests\n",
    "\n",
    "DataPath = Path('data')\n",
    "Path = DataPath / \"mnist\"\n",
    "\n",
    "Path.mkdir(parents=True, exist_ok=True)\n",
    "\n",
    "URL = \"http://deeplearning.net/data/mnist/\"\n",
    "FileName = \"mnist.pkl.gz\"\n",
    "\n",
    "if not (Path / FileName).exists():\n",
    "    content = requests.get(URL + FileName).content\n",
    "    (Path / FileName).open(\"wb\").write(content)"
   ],
   "metadata": {
    "collapsed": false
   }
  },
  {
   "cell_type": "code",
   "execution_count": 7,
   "outputs": [],
   "source": [
    "import pickle\n",
    "import gzip\n",
    "\n",
    "with gzip.open((Path / FileName).as_posix(), 'rb') as f:\n",
    "    ((x_train, y_train), (x_valid, y_valid), _) = pickle.load(f, encoding=\"latin-1\")"
   ],
   "metadata": {
    "collapsed": false
   }
  },
  {
   "cell_type": "markdown",
   "source": [
    "**每个样本包含784=28\\*28\\*1个像素**"
   ],
   "metadata": {
    "collapsed": false
   }
  },
  {
   "cell_type": "code",
   "execution_count": 9,
   "outputs": [
    {
     "name": "stdout",
     "output_type": "stream",
     "text": [
      "(50000, 784) (50000,) (10000, 784) (10000,)\n"
     ]
    },
    {
     "data": {
      "text/plain": "<Figure size 640x480 with 1 Axes>",
      "image/png": "[encoded data removed]"
     },
     "metadata": {},
     "output_type": "display_data"
    }
   ],
   "source": [
    "from matplotlib import pyplot\n",
    "import numpy as np\n",
    "\n",
    "pyplot.imshow(x_train[0].reshape((28, 28)), cmap=\"gray\")\n",
    "print(x_train.shape, y_train.shape, x_valid.shape, y_valid.shape)"
   ],
   "metadata": {
    "collapsed": false
   }
  },
  {
   "cell_type": "markdown",
   "source": [
    "## Mnist分类任务"
   ],
   "metadata": {
    "collapsed": false
   }
  },
  {
   "cell_type": "code",
   "execution_count": 10,
   "outputs": [],
   "source": [
    "import torch\n",
    "\n",
    "x_train, y_train, x_valid, y_valid = map(torch.tensor, (x_train, y_train, x_valid, y_valid))\n",
    "n, c = x_train.shape"
   ],
   "metadata": {
    "collapsed": false
   }
  },
  {
   "cell_type": "markdown",
   "source": [
    "## 使用torch.nn.functional 模块\n",
    "torch.nn.Module和torch.nn.functional都有很多函数，能实现相同功能。一般情况下，如果模型有可学习参数，最好用nn.Module,其他情况用nn.functional相对更简单"
   ],
   "metadata": {
    "collapsed": false
   }
  },
  {
   "cell_type": "code",
   "execution_count": 11,
   "outputs": [],
   "source": [
    "import torch.nn.functional as F\n",
    "\n",
    "loss_func = F.cross_entropy\n",
    "\n",
    "\n",
    "def model(xb):\n",
    "    return xb.mm(weights) + bias"
   ],
   "metadata": {
    "collapsed": false
   }
  },
  {
   "cell_type": "code",
   "execution_count": 12,
   "outputs": [
    {
     "name": "stdout",
     "output_type": "stream",
     "text": [
      "tensor(14.2878, grad_fn=<NllLossBackward>)\n"
     ]
    }
   ],
   "source": [
    "bs = 64\n",
    "xb = x_train[0:bs]\n",
    "yb = y_train[0:bs]\n",
    "weights = torch.randn([784, 10], dtype=torch.float, requires_grad=True)\n",
    "bias = torch.zeros(10, requires_grad=True)\n",
    "print(loss_func(model(xb), yb))"
   ],
   "metadata": {
    "collapsed": false
   }
  },
  {
   "cell_type": "markdown",
   "source": [
    "## 创建一个Model来简化代码\n",
    "+ 必须继承nn.Module\n",
    "+ 无需手写反向传播函数，nn.module能够利用自动求导实现反向传播\n",
    "+ 可学习参数可通过named_parameters()或parameters()返回迭代器"
   ],
   "metadata": {
    "collapsed": false
   }
  },
  {
   "cell_type": "code",
   "execution_count": 13,
   "outputs": [],
   "source": [
    "from torch import nn\n",
    "\n",
    "\n",
    "class Mnist_NN(nn.Module):\n",
    "    # 定义构造函数\n",
    "    def __init__(self):\n",
    "        # 初始化父类构造函数\n",
    "        super().__init__()\n",
    "        self.hidden1 = nn.Linear(784, 128)\n",
    "        self.hidden2 = nn.Linear(128, 256)\n",
    "        # self.hidden3 = nn.Linear(256, 10)\n",
    "        self.out = nn.Linear(256, 10)\n",
    "\n",
    "    def forward(self, x):\n",
    "        x = F.relu(self.hidden1(x))\n",
    "        x = F.relu(self.hidden2(x))\n",
    "        x = self.out(x)\n",
    "        return x"
   ],
   "metadata": {
    "collapsed": false
   }
  },
  {
   "cell_type": "code",
   "execution_count": 14,
   "outputs": [
    {
     "name": "stdout",
     "output_type": "stream",
     "text": [
      "Mnist_NN(\n",
      "  (hidden1): Linear(in_features=784, out_features=128, bias=True)\n",
      "  (hidden2): Linear(in_features=128, out_features=256, bias=True)\n",
      "  (out): Linear(in_features=256, out_features=10, bias=True)\n",
      ")\n"
     ]
    }
   ],
   "source": [
    "net = Mnist_NN()\n",
    "print(net)"
   ],
   "metadata": {
    "collapsed": false
   }
  },
  {
   "cell_type": "markdown",
   "source": [
    "**可以打印网络里的参数**"
   ],
   "metadata": {
    "collapsed": false
   }
  },
  {
   "cell_type": "code",
   "execution_count": 15,
   "outputs": [
    {
     "name": "stdout",
     "output_type": "stream",
     "text": [
      "hidden1.weight Parameter containing:\n",
      "tensor([[ 0.0165, -0.0182, -0.0321,  ...,  0.0019,  0.0123,  0.0254],\n",
      "        [ 0.0279,  0.0151, -0.0264,  ...,  0.0148, -0.0174,  0.0125],\n",
      "        [ 0.0228, -0.0111,  0.0159,  ..., -0.0317,  0.0295,  0.0291],\n",
      "        ...,\n",
      "        [-0.0113,  0.0211, -0.0131,  ...,  0.0229, -0.0033,  0.0236],\n",
      "        [-0.0148, -0.0318, -0.0011,  ..., -0.0356,  0.0259,  0.0285],\n",
      "        [-0.0017,  0.0218,  0.0245,  ..., -0.0064, -0.0302, -0.0256]],\n",
      "       requires_grad=True) torch.Size([128, 784])\n",
      "hidden1.bias Parameter containing:\n",
      "tensor([-2.9609e-02,  3.3518e-02,  2.5609e-02, -3.2586e-02, -2.2396e-02,\n",
      "        -2.0147e-02,  1.5896e-02, -2.7935e-02,  9.5197e-03,  3.3072e-02,\n",
      "        -3.1977e-02,  6.7677e-03,  2.5040e-02, -1.3826e-02,  8.4747e-05,\n",
      "        -1.8728e-02,  1.7111e-03,  5.4635e-03,  2.1416e-02,  2.0805e-02,\n",
      "        -1.6405e-02, -3.3134e-02, -1.9712e-02,  2.7197e-02,  3.1541e-02,\n",
      "        -1.5973e-02,  2.8689e-03, -1.8642e-02,  3.4334e-02,  3.1567e-02,\n",
      "         7.4937e-03,  3.1337e-02, -3.2538e-02, -2.7195e-02,  1.9110e-02,\n",
      "        -1.6386e-02,  1.2674e-02, -2.0591e-02,  3.3351e-02, -7.8651e-03,\n",
      "        -2.7027e-02,  2.6122e-02, -3.0651e-02, -1.3684e-02,  2.7368e-02,\n",
      "         3.8700e-03, -3.4682e-02, -2.1074e-02,  7.0673e-03, -2.9811e-02,\n",
      "         3.2520e-03,  1.2391e-02,  2.6028e-02,  3.3021e-03, -2.5374e-02,\n",
      "        -1.3877e-02, -2.8105e-02, -2.6807e-02,  2.2841e-02, -2.6117e-02,\n",
      "        -2.4761e-02, -2.9651e-02,  2.0167e-02, -2.3223e-02,  3.7977e-03,\n",
      "         3.1430e-02,  6.4474e-03, -1.5859e-02,  2.8118e-02, -1.1947e-02,\n",
      "         2.3957e-02,  3.0239e-02,  2.6920e-03, -6.9389e-03, -9.6740e-03,\n",
      "        -2.5735e-02,  9.6815e-03,  1.4335e-02,  8.0881e-04,  3.4798e-02,\n",
      "         1.7127e-02, -1.0182e-02, -1.1006e-02,  1.9041e-02, -5.6524e-03,\n",
      "         1.5383e-02, -1.7000e-02, -1.5758e-02,  6.5628e-03,  1.1042e-02,\n",
      "        -3.4798e-03,  3.1244e-02, -2.0547e-02,  1.7636e-02,  4.1453e-03,\n",
      "         1.2561e-03, -1.8294e-02,  3.0998e-05, -7.2274e-04, -1.2871e-02,\n",
      "        -2.1624e-02,  2.9849e-03,  1.5646e-02,  3.8878e-03,  1.7212e-02,\n",
      "         7.3913e-03,  3.4309e-02,  1.2186e-02, -4.4662e-03,  9.6280e-03,\n",
      "         2.4552e-02,  3.1067e-02,  2.6561e-02, -1.5485e-02,  2.7002e-02,\n",
      "        -1.1145e-02, -3.0667e-02, -1.1851e-02,  3.3104e-02,  1.7775e-02,\n",
      "        -1.0268e-02,  3.3043e-02, -2.2233e-02, -2.3686e-02,  1.0785e-02,\n",
      "        -1.7646e-03,  1.4381e-02,  2.7190e-02], requires_grad=True) torch.Size([128])\n",
      "hidden2.weight Parameter containing:\n",
      "tensor([[-0.0553, -0.0063, -0.0308,  ...,  0.0817,  0.0621, -0.0650],\n",
      "        [ 0.0881,  0.0127, -0.0565,  ...,  0.0398,  0.0763, -0.0283],\n",
      "        [ 0.0554, -0.0229,  0.0517,  ...,  0.0075,  0.0231, -0.0289],\n",
      "        ...,\n",
      "        [ 0.0075, -0.0296, -0.0690,  ..., -0.0596,  0.0495, -0.0261],\n",
      "        [ 0.0295, -0.0101,  0.0443,  ...,  0.0773,  0.0217, -0.0561],\n",
      "        [-0.0605, -0.0244,  0.0227,  ..., -0.0450, -0.0049, -0.0412]],\n",
      "       requires_grad=True) torch.Size([256, 128])\n",
      "hidden2.bias Parameter containing:\n",
      "tensor([ 0.0390, -0.0584,  0.0430,  0.0700,  0.0593,  0.0500,  0.0432,  0.0499,\n",
      "        -0.0061, -0.0586, -0.0795,  0.0277,  0.0154,  0.0490, -0.0769, -0.0410,\n",
      "         0.0106,  0.0492, -0.0594, -0.0377,  0.0116, -0.0674,  0.0333, -0.0458,\n",
      "         0.0176, -0.0741, -0.0102,  0.0412,  0.0112, -0.0078, -0.0427,  0.0859,\n",
      "         0.0338,  0.0491, -0.0255,  0.0838, -0.0009,  0.0012,  0.0189, -0.0578,\n",
      "        -0.0369, -0.0129, -0.0269, -0.0201,  0.0240,  0.0755,  0.0463,  0.0098,\n",
      "         0.0089, -0.0436, -0.0477, -0.0543,  0.0260, -0.0690,  0.0398,  0.0190,\n",
      "        -0.0748,  0.0874, -0.0296, -0.0437,  0.0824,  0.0499,  0.0611, -0.0234,\n",
      "         0.0220, -0.0679, -0.0578, -0.0712,  0.0462,  0.0378,  0.0181,  0.0864,\n",
      "         0.0135, -0.0180,  0.0641, -0.0616, -0.0724,  0.0382, -0.0737, -0.0271,\n",
      "         0.0546,  0.0185, -0.0855,  0.0497, -0.0120, -0.0806,  0.0642, -0.0568,\n",
      "         0.0261,  0.0875, -0.0509,  0.0854, -0.0762,  0.0297,  0.0729, -0.0798,\n",
      "         0.0426, -0.0238, -0.0671,  0.0849, -0.0274, -0.0547, -0.0535, -0.0476,\n",
      "         0.0472,  0.0200,  0.0350,  0.0007,  0.0028, -0.0681, -0.0871, -0.0529,\n",
      "        -0.0422, -0.0668,  0.0697, -0.0546,  0.0390,  0.0657,  0.0323, -0.0354,\n",
      "        -0.0558,  0.0319,  0.0123,  0.0859, -0.0812,  0.0450,  0.0679,  0.0307,\n",
      "        -0.0075, -0.0373, -0.0027, -0.0263,  0.0514,  0.0791, -0.0809, -0.0773,\n",
      "         0.0680, -0.0091,  0.0846, -0.0131,  0.0392, -0.0381,  0.0808,  0.0854,\n",
      "        -0.0239, -0.0033, -0.0310,  0.0802,  0.0311, -0.0319, -0.0845, -0.0049,\n",
      "        -0.0130, -0.0575, -0.0054, -0.0876, -0.0032,  0.0817,  0.0254,  0.0438,\n",
      "        -0.0736,  0.0248, -0.0605, -0.0630,  0.0611,  0.0732, -0.0454,  0.0561,\n",
      "         0.0439,  0.0309,  0.0694, -0.0834,  0.0477, -0.0162, -0.0514,  0.0128,\n",
      "         0.0482, -0.0597,  0.0272,  0.0556, -0.0463,  0.0546, -0.0031, -0.0282,\n",
      "        -0.0494, -0.0558, -0.0186, -0.0073,  0.0151,  0.0545, -0.0450,  0.0098,\n",
      "         0.0429, -0.0116,  0.0572,  0.0282, -0.0024, -0.0559, -0.0505,  0.0297,\n",
      "         0.0473,  0.0333, -0.0338, -0.0134,  0.0153,  0.0325,  0.0691, -0.0304,\n",
      "        -0.0761, -0.0806, -0.0769, -0.0191, -0.0747,  0.0726,  0.0240,  0.0649,\n",
      "        -0.0678, -0.0835,  0.0791, -0.0537, -0.0127, -0.0052, -0.0709, -0.0496,\n",
      "        -0.0615, -0.0252,  0.0298,  0.0770, -0.0780,  0.0294,  0.0250,  0.0002,\n",
      "        -0.0083,  0.0259, -0.0291,  0.0601,  0.0857,  0.0241, -0.0676, -0.0074,\n",
      "         0.0212,  0.0060,  0.0219,  0.0271, -0.0876,  0.0102,  0.0559, -0.0841,\n",
      "         0.0138,  0.0038, -0.0395, -0.0579, -0.0350, -0.0155, -0.0048,  0.0108],\n",
      "       requires_grad=True) torch.Size([256])\n",
      "out.weight Parameter containing:\n",
      "tensor([[-0.0131,  0.0293, -0.0432,  ..., -0.0018, -0.0085, -0.0238],\n",
      "        [-0.0549, -0.0241, -0.0542,  ..., -0.0164, -0.0279,  0.0455],\n",
      "        [ 0.0366, -0.0045, -0.0006,  ...,  0.0315,  0.0197, -0.0012],\n",
      "        ...,\n",
      "        [ 0.0075, -0.0327,  0.0350,  ..., -0.0529,  0.0559,  0.0212],\n",
      "        [ 0.0266,  0.0291, -0.0592,  ...,  0.0421,  0.0100, -0.0466],\n",
      "        [ 0.0079, -0.0384,  0.0416,  ...,  0.0171,  0.0594, -0.0146]],\n",
      "       requires_grad=True) torch.Size([10, 256])\n",
      "out.bias Parameter containing:\n",
      "tensor([ 0.0271, -0.0101,  0.0138, -0.0212,  0.0518,  0.0067, -0.0030,  0.0178,\n",
      "         0.0111, -0.0602], requires_grad=True) torch.Size([10])\n"
     ]
    }
   ],
   "source": [
    "for name, parameters in net.named_parameters():\n",
    "    print(name, parameters, parameters.size())"
   ],
   "metadata": {
    "collapsed": false
   }
  },
  {
   "cell_type": "markdown",
   "source": [
    "## 使用TensorDataset和DataLoader来简化"
   ],
   "metadata": {
    "collapsed": false
   }
  },
  {
   "cell_type": "code",
   "execution_count": 16,
   "outputs": [],
   "source": [
    "from torch.utils.data import TensorDataset\n",
    "from torch.utils.data import DataLoader\n",
    "\n",
    "train_ds = TensorDataset(x_train, y_train)\n",
    "train_dl = DataLoader(train_ds, batch_size=bs, shuffle=True)\n",
    "\n",
    "valid_ds = TensorDataset(x_valid, y_valid)\n",
    "valid_dl = DataLoader(valid_ds, batch_size=bs * 2)"
   ],
   "metadata": {
    "collapsed": false
   }
  },
  {
   "cell_type": "code",
   "execution_count": 17,
   "outputs": [],
   "source": [
    "def get_data(train_ds, valid_ds, bs):\n",
    "    return (DataLoader(train_ds, batch_size=bs, shuffle=True),\n",
    "            DataLoader(valid_ds, batch_size=bs * 2),\n",
    "            )"
   ],
   "metadata": {
    "collapsed": false
   }
  },
  {
   "cell_type": "markdown",
   "source": [
    "+ **一般在在训练模型时加上`model.train()`,这样会正常使用Normalization和Dropout**\n",
    "+ **测试的时候一般选择`model.eval()`,这样就不会使用Normalization和Dropout**\n"
   ],
   "metadata": {
    "collapsed": false
   }
  },
  {
   "cell_type": "code",
   "execution_count": 18,
   "outputs": [],
   "source": [
    "def loss_batch(model, loss_func, xb, yb, opt=None):\n",
    "    loss = loss_func(model(xb), yb)\n",
    "\n",
    "    if opt is not None:\n",
    "        loss.backward()\n",
    "        opt.step()\n",
    "        opt.zero_grad()\n",
    "    return loss.item(), len(xb)"
   ],
   "metadata": {
    "collapsed": false
   }
  },
  {
   "cell_type": "code",
   "execution_count": 19,
   "outputs": [],
   "source": [
    "import numpy as np\n",
    "\n",
    "\n",
    "def fit(steps, model, loss_func, opt, train_dl, valid_dl):\n",
    "    for step in range(steps):\n",
    "        model.train()\n",
    "        for xb, yb in train_dl:\n",
    "            loss_batch(model, loss_func, xb, yb, opt)\n",
    "        model.eval()\n",
    "        with torch.no_grad():\n",
    "            losses, nums = zip(\n",
    "                *[loss_batch(model, loss_func, xb, yb) for xb, yb in valid_dl]\n",
    "            )\n",
    "        val_loss = np.sum(np.multiply(losses, nums)) / np.sum(nums)\n",
    "        print(f\"当前step：{step}，验证集损失：{val_loss}\")\n"
   ],
   "metadata": {
    "collapsed": false
   }
  },
  {
   "cell_type": "code",
   "execution_count": 20,
   "outputs": [],
   "source": [
    "from torch import optim\n",
    "\n",
    "\n",
    "def get_model():\n",
    "    model = Mnist_NN()\n",
    "    return model, optim.SGD(model.parameters(), lr=0.001)"
   ],
   "metadata": {
    "collapsed": false
   }
  },
  {
   "cell_type": "markdown",
   "source": [
    "### 训练"
   ],
   "metadata": {
    "collapsed": false
   }
  },
  {
   "cell_type": "code",
   "execution_count": 21,
   "outputs": [
    {
     "name": "stdout",
     "output_type": "stream",
     "text": [
      "当前step：0，验证集损失：2.2778869674682616\n",
      "当前step：1，验证集损失：2.2429221740722656\n",
      "当前step：2，验证集损失：2.188354666137695\n",
      "当前step：3，验证集损失：2.0980909713745115\n",
      "当前step：4，验证集损失：1.950851148223877\n",
      "当前step：5，验证集损失：1.7299544036865235\n",
      "当前step：6，验证集损失：1.4582110034942628\n",
      "当前step：7，验证集损失：1.2047766105651856\n",
      "当前step：8，验证集损失：1.0106034000396729\n",
      "当前step：9，验证集损失：0.8719275703430176\n",
      "当前step：10，验证集损失：0.7725068694114685\n",
      "当前step：11，验证集损失：0.6971979211807251\n",
      "当前step：12，验证集损失：0.6401853184700013\n",
      "当前step：13，验证集损失：0.5950704009056091\n",
      "当前step：14，验证集损失：0.5586960344791413\n",
      "当前step：15，验证集损失：0.5286416642189026\n",
      "当前step：16，验证集损失：0.5036317627906799\n",
      "当前step：17，验证集损失：0.48172946915626524\n",
      "当前step：18，验证集损失：0.46330577845573423\n",
      "当前step：19，验证集损失：0.44739595742225646\n",
      "当前step：20，验证集损失：0.433144797706604\n",
      "当前step：21，验证集损失：0.4206992911338806\n",
      "当前step：22，验证集损失：0.4097844927549362\n",
      "当前step：23，验证集损失：0.3993577396631241\n",
      "当前step：24，验证集损失：0.3907827751636505\n"
     ]
    }
   ],
   "source": [
    "model, opt = get_model()\n",
    "fit(25, model, loss_func, opt, train_dl, valid_dl)"
   ],
   "metadata": {
    "collapsed": false
   }
  },
  {
   "cell_type": "code",
   "execution_count": null,
   "outputs": [],
   "source": [],
   "metadata": {
    "collapsed": false
   }
  }
 ],
 "metadata": {
  "kernelspec": {
   "display_name": "Python 3",
   "language": "python",
   "name": "python3"
  },
  "language_info": {
   "codemirror_mode": {
    "name": "ipython",
    "version": 2
   },
   "file_extension": ".py",
   "mimetype": "text/x-python",
   "name": "python",
   "nbconvert_exporter": "python",
   "pygments_lexer": "ipython2",
   "version": "2.7.6"
  }
 },
 "nbformat": 4,
 "nbformat_minor": 0
}
